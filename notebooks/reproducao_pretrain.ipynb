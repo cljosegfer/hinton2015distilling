{
 "cells": [
  {
   "cell_type": "markdown",
   "metadata": {},
   "source": [
    "# setup"
   ]
  },
  {
   "cell_type": "code",
   "execution_count": 1,
   "metadata": {},
   "outputs": [],
   "source": [
    "import torch"
   ]
  },
  {
   "cell_type": "code",
   "execution_count": 2,
   "metadata": {},
   "outputs": [],
   "source": [
    "import os\n",
    "\n",
    "if os.getcwd().split('/')[-1] == 'notebooks':\n",
    "    os.chdir('..')"
   ]
  },
  {
   "cell_type": "code",
   "execution_count": 3,
   "metadata": {},
   "outputs": [],
   "source": [
    "from dataloader import Cifar100\n",
    "from runners.pretrain import Runner\n",
    "from utils import val_split\n",
    "from hparams import EPOCHS, BATCH_SIZE, NUM_WORKERS"
   ]
  },
  {
   "cell_type": "code",
   "execution_count": 4,
   "metadata": {},
   "outputs": [],
   "source": [
    "EPOCHS = 3"
   ]
  },
  {
   "cell_type": "markdown",
   "metadata": {},
   "source": [
    "# init"
   ]
  },
  {
   "cell_type": "code",
   "execution_count": 5,
   "metadata": {},
   "outputs": [
    {
     "name": "stderr",
     "output_type": "stream",
     "text": [
      "Using cache found in /home/josegfer/.cache/torch/hub/pytorch_vision_v0.10.0\n"
     ]
    }
   ],
   "source": [
    "reflexo = 'resnet18'\n",
    "origem = 'resnet34'\n",
    "model_label = reflexo + origem\n",
    "\n",
    "model = torch.hub.load('pytorch/vision:v0.10.0', reflexo, pretrained = False)\n",
    "model = list(model.children())[:-1]\n",
    "model = torch.nn.Sequential(*model)\n",
    "\n",
    "device = torch.device('cuda' if torch.cuda.is_available() else 'cpu')"
   ]
  },
  {
   "cell_type": "code",
   "execution_count": 9,
   "metadata": {},
   "outputs": [],
   "source": [
    "trn_ds = Cifar100(split = 'train', embedding_path = 'output/{}/H_trn.pt'.format(origem))\n",
    "# trn_loader = torch.utils.data.DataLoader(trn_ds, batch_size = BATCH_SIZE,\n",
    "#                                           shuffle = True, num_workers = NUM_WORKERS)\n",
    "sampler = val_split(N = trn_ds.__len__())\n",
    "trn_loader = torch.utils.data.DataLoader(trn_ds, batch_size = BATCH_SIZE, \n",
    "                                         sampler = sampler['trn_sampler'], num_workers = NUM_WORKERS)\n",
    "val_loader = torch.utils.data.DataLoader(trn_ds, batch_size = BATCH_SIZE, \n",
    "                                         sampler = sampler['val_sampler'], num_workers = NUM_WORKERS)\n",
    "\n",
    "# tst_ds = Cifar100(split = 'val', embedding_path = 'output/{}/H_tst.pt'.format(origem))\n",
    "# tst_loader = torch.utils.data.DataLoader(tst_ds, batch_size = BATCH_SIZE,\n",
    "#                                          shuffle = False, num_workers = NUM_WORKERS)"
   ]
  },
  {
   "cell_type": "code",
   "execution_count": 10,
   "metadata": {},
   "outputs": [],
   "source": [
    "runner = Runner(device, model, model_label)"
   ]
  },
  {
   "cell_type": "markdown",
   "metadata": {},
   "source": [
    "# train"
   ]
  },
  {
   "cell_type": "code",
   "execution_count": 11,
   "metadata": {},
   "outputs": [
    {
     "name": "stdout",
     "output_type": "stream",
     "text": [
      "-- epoch 0\n"
     ]
    },
    {
     "name": "stderr",
     "output_type": "stream",
     "text": [
      "  0%|          | 0/704 [00:00<?, ?it/s]/home/josegfer/miniconda3/envs/mirror/lib/python3.8/site-packages/torch/nn/functional.py:718: UserWarning: Named tensors and all their associated APIs are an experimental feature and subject to change. Please do not use them for anything important until they are released as stable. (Triggered internally at  /pytorch/c10/core/TensorImpl.h:1156.)\n",
      "  return torch.max_pool2d(input, kernel_size, stride, padding, dilation, ceil_mode)\n",
      "100%|██████████| 704/704 [01:05<00:00, 10.68it/s]\n",
      "100%|██████████| 79/79 [00:06<00:00, 12.03it/s]\n"
     ]
    },
    {
     "name": "stdout",
     "output_type": "stream",
     "text": [
      "new checkpoint with val loss: 0.1852433491922632\n",
      "-- epoch 1\n"
     ]
    },
    {
     "name": "stderr",
     "output_type": "stream",
     "text": [
      "100%|██████████| 704/704 [00:59<00:00, 11.87it/s]\n",
      "100%|██████████| 79/79 [00:06<00:00, 13.10it/s]\n"
     ]
    },
    {
     "name": "stdout",
     "output_type": "stream",
     "text": [
      "new checkpoint with val loss: 0.13731904205264925\n",
      "-- epoch 2\n"
     ]
    },
    {
     "name": "stderr",
     "output_type": "stream",
     "text": [
      "100%|██████████| 704/704 [00:59<00:00, 11.76it/s]\n",
      "100%|██████████| 79/79 [00:06<00:00, 13.16it/s]\n"
     ]
    },
    {
     "name": "stdout",
     "output_type": "stream",
     "text": [
      "new checkpoint with val loss: 0.11642149156784709\n",
      "exporting model\n"
     ]
    }
   ],
   "source": [
    "runner.train(EPOCHS, trn_loader, val_loader)"
   ]
  },
  {
   "cell_type": "markdown",
   "metadata": {},
   "source": [
    "# export"
   ]
  },
  {
   "cell_type": "code",
   "execution_count": null,
   "metadata": {},
   "outputs": [],
   "source": [
    "# if not os.path.exists('output/{}/backbone'.format(model_label)):\n",
    "#     os.makedirs('output/{}/backbone'.format(model_label))\n",
    "\n",
    "# where = 'output/{}'.format(model_label)\n",
    "# togo = 'output/{}/backbone'.format(model_label)\n",
    "\n",
    "# for file in os.listdir(where):\n",
    "#     if file == 'backbone':\n",
    "#         continue\n",
    "#     os.rename(os.path.join(where, file), os.path.join(togo, file))"
   ]
  }
 ],
 "metadata": {
  "kernelspec": {
   "display_name": "mirror",
   "language": "python",
   "name": "python3"
  },
  "language_info": {
   "codemirror_mode": {
    "name": "ipython",
    "version": 3
   },
   "file_extension": ".py",
   "mimetype": "text/x-python",
   "name": "python",
   "nbconvert_exporter": "python",
   "pygments_lexer": "ipython3",
   "version": "3.8.8"
  }
 },
 "nbformat": 4,
 "nbformat_minor": 2
}
