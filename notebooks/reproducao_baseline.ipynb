{
 "cells": [
  {
   "cell_type": "markdown",
   "metadata": {},
   "source": [
    "# setup"
   ]
  },
  {
   "cell_type": "code",
   "execution_count": 1,
   "metadata": {},
   "outputs": [],
   "source": [
    "import torch\n",
    "import torch.nn as nn\n",
    "import os"
   ]
  },
  {
   "cell_type": "code",
   "execution_count": 2,
   "metadata": {},
   "outputs": [],
   "source": [
    "if os.getcwd().split('/')[-1] == 'notebooks':\n",
    "    os.chdir('..')"
   ]
  },
  {
   "cell_type": "code",
   "execution_count": 3,
   "metadata": {},
   "outputs": [],
   "source": [
    "from dataloader import Cifar10"
   ]
  },
  {
   "cell_type": "markdown",
   "metadata": {},
   "source": [
    "# init"
   ]
  },
  {
   "cell_type": "code",
   "execution_count": 4,
   "metadata": {},
   "outputs": [
    {
     "name": "stderr",
     "output_type": "stream",
     "text": [
      "Using cache found in /home/josegfer/.cache/torch/hub/pytorch_vision_v0.10.0\n"
     ]
    }
   ],
   "source": [
    "model_label = 'resnet18'\n",
    "model = torch.hub.load('pytorch/vision:v0.10.0', model_label, pretrained = False)\n",
    "\n",
    "device = torch.device('cuda' if torch.cuda.is_available() else 'cpu')\n",
    "EPOCHS = 2\n",
    "BATCH_SIZE = 128\n",
    "NUM_WORKERS = 6"
   ]
  },
  {
   "cell_type": "code",
   "execution_count": 5,
   "metadata": {},
   "outputs": [],
   "source": [
    "trn_ds = Cifar10(split = 'train')\n",
    "trn_loader = torch.utils.data.DataLoader(trn_ds, batch_size = BATCH_SIZE,\n",
    "                                          shuffle = True, num_workers = NUM_WORKERS)\n",
    "\n",
    "val_ds = Cifar10(split = 'val')\n",
    "val_loader = torch.utils.data.DataLoader(val_ds, batch_size = BATCH_SIZE,\n",
    "                                         shuffle = False, num_workers = NUM_WORKERS)"
   ]
  },
  {
   "cell_type": "code",
   "execution_count": 6,
   "metadata": {},
   "outputs": [],
   "source": [
    "import json\n",
    "\n",
    "from tqdm import tqdm\n",
    "\n",
    "from utils import plot_log, export\n",
    "\n",
    "class Runner():\n",
    "    def __init__(self, device, model, model_label):\n",
    "        self.device = device\n",
    "        self.model = model\n",
    "        self.model_label = model_label\n",
    "        if not os.path.exists('output/{}'.format(model_label)):\n",
    "            os.makedirs('output/{}'.format(model_label))\n",
    "    \n",
    "    def train(self, epochs, trn_loader, val_loader):\n",
    "        self.model = self.model.to(self.device)\n",
    "        criterion = nn.CrossEntropyLoss()\n",
    "        optimizer = torch.optim.Adam(self.model.parameters())\n",
    "\n",
    "        for epoch in range(epochs):\n",
    "            print('-- epoch {}'.format(epoch))\n",
    "            trn_log = self._train_loop(trn_loader, optimizer, criterion)['trn_log']\n",
    "            val_log = self._eval_loop(val_loader, criterion)['val_log']\n",
    "            plot_log(self.model_label, trn_log, val_log, epoch)\n",
    "        export(self.model, self.model_label)\n",
    "\n",
    "    def _train_loop(self, loader, optimizer, criterion):\n",
    "        log = []\n",
    "        self.model.train()\n",
    "        for batch in tqdm(loader):\n",
    "            x = batch['image'].to(self.device)\n",
    "            y = batch['label'].to(self.device)\n",
    "\n",
    "            yhat = self.model.forward(x)\n",
    "            loss = criterion(yhat, y)\n",
    "\n",
    "            optimizer.zero_grad()\n",
    "            loss.backward()\n",
    "            optimizer.step()\n",
    "\n",
    "            log.append(loss.item())\n",
    "        return {'trn_log': log}\n",
    "    \n",
    "    def _eval_loop(self, loader, criterion):\n",
    "        log = 0\n",
    "        self.model.eval()\n",
    "        with torch.no_grad():\n",
    "            for batch in tqdm(loader):\n",
    "                x = batch['image'].to(self.device)\n",
    "                y = batch['label'].to(self.device)\n",
    "\n",
    "                yhat = self.model.forward(x)\n",
    "                loss = criterion(yhat, y)\n",
    "\n",
    "                log += loss.item()\n",
    "        return {'val_log': log / len(loader)}\n",
    "    \n",
    "    def acc(self, loader):\n",
    "        num = 0\n",
    "        den = 0\n",
    "        self.model.eval()\n",
    "        with torch.no_grad():\n",
    "            for batch in tqdm(loader):\n",
    "                x = batch['image'].to(self.device)\n",
    "                y = batch['label'].to(self.device)\n",
    "\n",
    "                yhat = self.model.forward(x)\n",
    "                _, predicted = torch.max(yhat.data, 1)\n",
    "                den += y.size(0)\n",
    "                num += (predicted == y).sum().item()\n",
    "        log = {'acc': num / den}\n",
    "        with open('output/{}/accuracy.json'.format(self.model_label), 'w') as file:\n",
    "            json.dump(log, file)\n",
    "        return log"
   ]
  },
  {
   "cell_type": "code",
   "execution_count": 7,
   "metadata": {},
   "outputs": [],
   "source": [
    "runner = Runner(device, model, model_label)"
   ]
  },
  {
   "cell_type": "markdown",
   "metadata": {},
   "source": [
    "# train"
   ]
  },
  {
   "cell_type": "code",
   "execution_count": 8,
   "metadata": {},
   "outputs": [
    {
     "name": "stdout",
     "output_type": "stream",
     "text": [
      "-- epoch 0\n"
     ]
    },
    {
     "name": "stderr",
     "output_type": "stream",
     "text": [
      "  0%|          | 0/391 [00:00<?, ?it/s]/home/josegfer/miniconda3/envs/mirror/lib/python3.8/site-packages/torch/nn/functional.py:718: UserWarning: Named tensors and all their associated APIs are an experimental feature and subject to change. Please do not use them for anything important until they are released as stable. (Triggered internally at  /pytorch/c10/core/TensorImpl.h:1156.)\n",
      "  return torch.max_pool2d(input, kernel_size, stride, padding, dilation, ceil_mode)\n",
      "100%|██████████| 391/391 [01:11<00:00,  5.48it/s]\n",
      "100%|██████████| 79/79 [00:11<00:00,  6.80it/s]\n"
     ]
    },
    {
     "name": "stdout",
     "output_type": "stream",
     "text": [
      "-- epoch 1\n"
     ]
    },
    {
     "name": "stderr",
     "output_type": "stream",
     "text": [
      "100%|██████████| 391/391 [01:02<00:00,  6.23it/s]\n",
      "100%|██████████| 79/79 [00:11<00:00,  6.96it/s]\n"
     ]
    },
    {
     "name": "stdout",
     "output_type": "stream",
     "text": [
      "exporting model\n"
     ]
    }
   ],
   "source": [
    "runner.train(EPOCHS, trn_loader, val_loader)"
   ]
  },
  {
   "cell_type": "markdown",
   "metadata": {},
   "source": [
    "# eval"
   ]
  },
  {
   "cell_type": "code",
   "execution_count": 9,
   "metadata": {},
   "outputs": [
    {
     "name": "stderr",
     "output_type": "stream",
     "text": [
      "100%|██████████| 79/79 [00:11<00:00,  6.59it/s]\n"
     ]
    },
    {
     "data": {
      "text/plain": [
       "0.5466"
      ]
     },
     "execution_count": 9,
     "metadata": {},
     "output_type": "execute_result"
    }
   ],
   "source": [
    "acc = runner.acc(val_loader)\n",
    "acc['acc']"
   ]
  },
  {
   "cell_type": "code",
   "execution_count": null,
   "metadata": {},
   "outputs": [],
   "source": []
  }
 ],
 "metadata": {
  "kernelspec": {
   "display_name": "mirror",
   "language": "python",
   "name": "python3"
  },
  "language_info": {
   "codemirror_mode": {
    "name": "ipython",
    "version": 3
   },
   "file_extension": ".py",
   "mimetype": "text/x-python",
   "name": "python",
   "nbconvert_exporter": "python",
   "pygments_lexer": "ipython3",
   "version": "3.8.8"
  }
 },
 "nbformat": 4,
 "nbformat_minor": 2
}
