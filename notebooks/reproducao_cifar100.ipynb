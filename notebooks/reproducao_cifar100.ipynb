{
 "cells": [
  {
   "cell_type": "code",
   "execution_count": 1,
   "metadata": {},
   "outputs": [],
   "source": [
    "import torch\n",
    "import torchvision\n",
    "import torchvision.transforms as transforms\n",
    "import os"
   ]
  },
  {
   "cell_type": "code",
   "execution_count": 2,
   "metadata": {},
   "outputs": [],
   "source": [
    "if os.getcwd().split('/')[-1] == 'notebooks':\n",
    "    os.chdir('..')"
   ]
  },
  {
   "cell_type": "code",
   "execution_count": 3,
   "metadata": {},
   "outputs": [
    {
     "name": "stdout",
     "output_type": "stream",
     "text": [
      "Downloading https://www.cs.toronto.edu/~kriz/cifar-100-python.tar.gz to /home/josegfer/datasets/cifar100/cifar-100-python.tar.gz\n"
     ]
    },
    {
     "data": {
      "application/vnd.jupyter.widget-view+json": {
       "model_id": "cc0fb33a208944c88f6506bba1980501",
       "version_major": 2,
       "version_minor": 0
      },
      "text/plain": [
       "  0%|          | 0/169001437 [00:00<?, ?it/s]"
      ]
     },
     "metadata": {},
     "output_type": "display_data"
    },
    {
     "name": "stdout",
     "output_type": "stream",
     "text": [
      "Extracting /home/josegfer/datasets/cifar100/cifar-100-python.tar.gz to /home/josegfer/datasets/cifar100\n",
      "Files already downloaded and verified\n"
     ]
    }
   ],
   "source": [
    "data_transforms = {\n",
    "    'train': transforms.Compose([\n",
    "        transforms.RandomResizedCrop(224),\n",
    "        transforms.RandomHorizontalFlip(),\n",
    "        transforms.ToTensor(),\n",
    "        transforms.Normalize([0.485, 0.456, 0.406], [0.229, 0.224, 0.225])\n",
    "    ]),\n",
    "    'val': transforms.Compose([\n",
    "        transforms.Resize(256),\n",
    "        transforms.CenterCrop(224),\n",
    "        transforms.ToTensor(),\n",
    "        transforms.Normalize([0.485, 0.456, 0.406], [0.229, 0.224, 0.225])\n",
    "    ]),\n",
    "}\n",
    "\n",
    "batch_size = 128\n",
    "\n",
    "trainset = torchvision.datasets.CIFAR100(root='/home/josegfer/datasets/cifar100', train=True,\n",
    "                                        download=True, transform=data_transforms['train'])\n",
    "trainloader = torch.utils.data.DataLoader(trainset, batch_size=batch_size,\n",
    "                                          shuffle=True, num_workers=4)\n",
    "\n",
    "testset = torchvision.datasets.CIFAR100(root='/home/josegfer/datasets/cifar100', train=False,\n",
    "                                       download=True, transform=data_transforms['val'])\n",
    "testloader = torch.utils.data.DataLoader(testset, batch_size=batch_size,\n",
    "                                         shuffle=False, num_workers=4)"
   ]
  },
  {
   "cell_type": "code",
   "execution_count": 4,
   "metadata": {},
   "outputs": [
    {
     "data": {
      "text/plain": [
       "(torch.Size([128, 3, 224, 224]), torch.Size([128]))"
      ]
     },
     "execution_count": 4,
     "metadata": {},
     "output_type": "execute_result"
    }
   ],
   "source": [
    "for i, batch in enumerate(trainloader):\n",
    "    inputs, labels = batch\n",
    "    break\n",
    "inputs.shape, labels.shape"
   ]
  },
  {
   "cell_type": "code",
   "execution_count": 8,
   "metadata": {},
   "outputs": [
    {
     "data": {
      "text/plain": [
       "(torch.Size([128, 3, 224, 224]), torch.Size([128]))"
      ]
     },
     "execution_count": 8,
     "metadata": {},
     "output_type": "execute_result"
    }
   ],
   "source": [
    "for i, batch in enumerate(testloader):\n",
    "    inputs, labels = batch\n",
    "    break\n",
    "inputs.shape, labels.shape"
   ]
  },
  {
   "cell_type": "code",
   "execution_count": 9,
   "metadata": {},
   "outputs": [
    {
     "data": {
      "text/plain": [
       "tensor([3, 8, 8, 0, 6, 6, 1, 6, 3, 1, 0, 9, 5, 7, 9, 8, 5, 7, 8, 6, 7, 0, 4, 9,\n",
       "        5, 2, 4, 0, 9, 6, 6, 5, 4, 5, 9, 2, 4, 1, 9, 5, 4, 6, 5, 6, 0, 9, 3, 9,\n",
       "        7, 6, 9, 8, 0, 3, 8, 8, 7, 7, 4, 6, 7, 3, 6, 3, 6, 2, 1, 2, 3, 7, 2, 6,\n",
       "        8, 8, 0, 2, 9, 3, 3, 8, 8, 1, 1, 7, 2, 5, 2, 7, 8, 9, 0, 3, 8, 6, 4, 6,\n",
       "        6, 0, 0, 7, 4, 5, 6, 3, 1, 1, 3, 6, 8, 7, 4, 0, 6, 2, 1, 3, 0, 4, 2, 7,\n",
       "        8, 3, 1, 2, 8, 0, 8, 3])"
      ]
     },
     "execution_count": 9,
     "metadata": {},
     "output_type": "execute_result"
    }
   ],
   "source": [
    "labels"
   ]
  },
  {
   "cell_type": "markdown",
   "metadata": {},
   "source": [
    "# loader"
   ]
  },
  {
   "cell_type": "code",
   "execution_count": 41,
   "metadata": {},
   "outputs": [],
   "source": [
    "from torch.utils.data import Dataset\n",
    "\n",
    "TRANSFORM = {\n",
    "    'train': transforms.Compose([\n",
    "        transforms.RandomResizedCrop(224),\n",
    "        transforms.RandomHorizontalFlip(),\n",
    "        transforms.ToTensor(),\n",
    "        transforms.Normalize([0.485, 0.456, 0.406], [0.229, 0.224, 0.225])\n",
    "    ]),\n",
    "    'val': transforms.Compose([\n",
    "        transforms.Resize(256),\n",
    "        transforms.CenterCrop(224),\n",
    "        transforms.ToTensor(),\n",
    "        transforms.Normalize([0.485, 0.456, 0.406], [0.229, 0.224, 0.225])\n",
    "    ]),\n",
    "}\n",
    "\n",
    "class Cifar10(Dataset):\n",
    "    def __init__(self, split, embedding_path = None):\n",
    "        self.transform = TRANSFORM[split]\n",
    "        self.data = torchvision.datasets.CIFAR10(root='/home/josegfer/datasets/cifar', \n",
    "                                                 train = (split == 'train'), transform = self.transform)\n",
    "        self.embedding = False\n",
    "        if embedding_path is not None:\n",
    "            self.H = torch.load(embedding_path)\n",
    "            self.embedding = True\n",
    "    \n",
    "    def __len__(self):\n",
    "        return self.data.__len__()\n",
    "    \n",
    "    def __getitem__(self, idx):\n",
    "        x = self.data.__getitem__(idx)[0]\n",
    "        y = self.data.__getitem__(idx)[1]\n",
    "        if self.embedding:\n",
    "            return {'image': x, 'label': y, 'embedding': self.H[idx, :, 0, 0]}\n",
    "        return {'image': x, 'label': y}"
   ]
  },
  {
   "cell_type": "code",
   "execution_count": 19,
   "metadata": {},
   "outputs": [],
   "source": [
    "split = 'train'\n",
    "data = torchvision.datasets.CIFAR10(root='/home/josegfer/datasets/cifar', \n",
    "                                                 train = (split == 'train'), transform = TRANSFORM[split])"
   ]
  },
  {
   "cell_type": "code",
   "execution_count": 26,
   "metadata": {},
   "outputs": [
    {
     "data": {
      "text/plain": [
       "(torch.Size([3, 224, 224]), 6)"
      ]
     },
     "execution_count": 26,
     "metadata": {},
     "output_type": "execute_result"
    }
   ],
   "source": [
    "data.__getitem__(0)[0].shape, data.__getitem__(0)[1]"
   ]
  },
  {
   "cell_type": "code",
   "execution_count": 18,
   "metadata": {},
   "outputs": [
    {
     "data": {
      "text/plain": [
       "(tensor([[[ 0.1083,  0.1083,  0.1083,  ...,  0.0912,  0.0912,  0.0912],\n",
       "          [ 0.1083,  0.1083,  0.1083,  ...,  0.0912,  0.0912,  0.0912],\n",
       "          [ 0.1083,  0.1083,  0.1083,  ...,  0.0912,  0.0912,  0.0912],\n",
       "          ...,\n",
       "          [ 0.0569,  0.0569,  0.0569,  ...,  0.3138,  0.3138,  0.3138],\n",
       "          [ 0.0569,  0.0569,  0.0569,  ...,  0.3138,  0.3138,  0.3138],\n",
       "          [ 0.0569,  0.0569,  0.0569,  ...,  0.3138,  0.3138,  0.3138]],\n",
       " \n",
       "         [[-0.4251, -0.4251, -0.4251,  ..., -0.4251, -0.4251, -0.4251],\n",
       "          [-0.4251, -0.4251, -0.4251,  ..., -0.4251, -0.4251, -0.4251],\n",
       "          [-0.4251, -0.4251, -0.4251,  ..., -0.4251, -0.4251, -0.4251],\n",
       "          ...,\n",
       "          [-0.2675, -0.2675, -0.2675,  ..., -0.2325, -0.2325, -0.2325],\n",
       "          [-0.2675, -0.2675, -0.2675,  ..., -0.2325, -0.2325, -0.2325],\n",
       "          [-0.2675, -0.2675, -0.2675,  ..., -0.2325, -0.2325, -0.2325]],\n",
       " \n",
       "         [[-0.8807, -0.8807, -0.8807,  ..., -0.8633, -0.8633, -0.8633],\n",
       "          [-0.8807, -0.8807, -0.8807,  ..., -0.8633, -0.8633, -0.8633],\n",
       "          [-0.8807, -0.8807, -0.8807,  ..., -0.8633, -0.8633, -0.8633],\n",
       "          ...,\n",
       "          [-0.7761, -0.7761, -0.7761,  ..., -1.2816, -1.2816, -1.2816],\n",
       "          [-0.7761, -0.7761, -0.7761,  ..., -1.2816, -1.2816, -1.2816],\n",
       "          [-0.7761, -0.7761, -0.7761,  ..., -1.2816, -1.2816, -1.2816]]]),\n",
       " 6)"
      ]
     },
     "execution_count": 18,
     "metadata": {},
     "output_type": "execute_result"
    }
   ],
   "source": [
    "trainset.__getitem__(0)"
   ]
  },
  {
   "cell_type": "code",
   "execution_count": 42,
   "metadata": {},
   "outputs": [],
   "source": [
    "batch_size = 128\n",
    "\n",
    "# trainset = Cifar10(split = 'train')\n",
    "trainset = Cifar10(split = 'train', embedding_path = 'output/rn18_H_train.pt')\n",
    "# trainset = torchvision.datasets.CIFAR10(root='/home/josegfer/datasets/cifar', train=True,\n",
    "#                                         download=True, transform=data_transforms['train'])\n",
    "trainloader = torch.utils.data.DataLoader(trainset, batch_size=batch_size,\n",
    "                                          shuffle=True, num_workers=4)\n",
    "\n",
    "trainset = Cifar10(split = 'val')\n",
    "# testset = torchvision.datasets.CIFAR10(root='/home/josegfer/datasets/cifar', train=False,\n",
    "#                                        download=True, transform=data_transforms['val'])\n",
    "testloader = torch.utils.data.DataLoader(testset, batch_size=batch_size,\n",
    "                                         shuffle=False, num_workers=4)"
   ]
  },
  {
   "cell_type": "code",
   "execution_count": 43,
   "metadata": {},
   "outputs": [
    {
     "data": {
      "text/plain": [
       "(torch.Size([128, 3, 224, 224]), torch.Size([128]), torch.Size([128, 512]))"
      ]
     },
     "execution_count": 43,
     "metadata": {},
     "output_type": "execute_result"
    }
   ],
   "source": [
    "for i, batch in enumerate(trainloader):\n",
    "    # inputs, labels, h = batch\n",
    "    inputs = batch['image']\n",
    "    labels = batch['label']\n",
    "    h = batch['embedding']\n",
    "    break\n",
    "inputs.shape, labels.shape, h.shape"
   ]
  },
  {
   "cell_type": "code",
   "execution_count": 32,
   "metadata": {},
   "outputs": [
    {
     "data": {
      "text/plain": [
       "(torch.Size([128, 3, 224, 224]), torch.Size([128]))"
      ]
     },
     "execution_count": 32,
     "metadata": {},
     "output_type": "execute_result"
    }
   ],
   "source": [
    "for i, batch in enumerate(testloader):\n",
    "    inputs, labels = batch\n",
    "    break\n",
    "inputs.shape, labels.shape"
   ]
  },
  {
   "cell_type": "code",
   "execution_count": 33,
   "metadata": {},
   "outputs": [
    {
     "data": {
      "text/plain": [
       "tensor([3, 8, 8, 0, 6, 6, 1, 6, 3, 1, 0, 9, 5, 7, 9, 8, 5, 7, 8, 6, 7, 0, 4, 9,\n",
       "        5, 2, 4, 0, 9, 6, 6, 5, 4, 5, 9, 2, 4, 1, 9, 5, 4, 6, 5, 6, 0, 9, 3, 9,\n",
       "        7, 6, 9, 8, 0, 3, 8, 8, 7, 7, 4, 6, 7, 3, 6, 3, 6, 2, 1, 2, 3, 7, 2, 6,\n",
       "        8, 8, 0, 2, 9, 3, 3, 8, 8, 1, 1, 7, 2, 5, 2, 7, 8, 9, 0, 3, 8, 6, 4, 6,\n",
       "        6, 0, 0, 7, 4, 5, 6, 3, 1, 1, 3, 6, 8, 7, 4, 0, 6, 2, 1, 3, 0, 4, 2, 7,\n",
       "        8, 3, 1, 2, 8, 0, 8, 3])"
      ]
     },
     "execution_count": 33,
     "metadata": {},
     "output_type": "execute_result"
    }
   ],
   "source": [
    "labels"
   ]
  }
 ],
 "metadata": {
  "kernelspec": {
   "display_name": "mirror",
   "language": "python",
   "name": "python3"
  },
  "language_info": {
   "codemirror_mode": {
    "name": "ipython",
    "version": 3
   },
   "file_extension": ".py",
   "mimetype": "text/x-python",
   "name": "python",
   "nbconvert_exporter": "python",
   "pygments_lexer": "ipython3",
   "version": "3.8.8"
  }
 },
 "nbformat": 4,
 "nbformat_minor": 2
}
