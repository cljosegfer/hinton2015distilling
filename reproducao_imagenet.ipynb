{
 "cells": [
  {
   "cell_type": "code",
   "execution_count": 1,
   "metadata": {},
   "outputs": [],
   "source": [
    "from datasets import load_dataset"
   ]
  },
  {
   "cell_type": "code",
   "execution_count": 2,
   "metadata": {},
   "outputs": [
    {
     "data": {
      "application/vnd.jupyter.widget-view+json": {
       "model_id": "246c715351e445da8b9d1211b2337e48",
       "version_major": 2,
       "version_minor": 0
      },
      "text/plain": [
       "Resolving data files:   0%|          | 0/52 [00:00<?, ?it/s]"
      ]
     },
     "metadata": {},
     "output_type": "display_data"
    },
    {
     "data": {
      "application/vnd.jupyter.widget-view+json": {
       "model_id": "3aab3c88584248a090f0da636f558614",
       "version_major": 2,
       "version_minor": 0
      },
      "text/plain": [
       "Resolving data files:   0%|          | 0/52 [00:00<?, ?it/s]"
      ]
     },
     "metadata": {},
     "output_type": "display_data"
    },
    {
     "data": {
      "application/vnd.jupyter.widget-view+json": {
       "model_id": "3faf9c186daf47568c9a77cc8eed793e",
       "version_major": 2,
       "version_minor": 0
      },
      "text/plain": [
       "Loading dataset shards:   0%|          | 0/39 [00:00<?, ?it/s]"
      ]
     },
     "metadata": {},
     "output_type": "display_data"
    },
    {
     "data": {
      "application/vnd.jupyter.widget-view+json": {
       "model_id": "d2a4efdbccc74bb8860f7f616edc3d5b",
       "version_major": 2,
       "version_minor": 0
      },
      "text/plain": [
       "Resolving data files:   0%|          | 0/52 [00:00<?, ?it/s]"
      ]
     },
     "metadata": {},
     "output_type": "display_data"
    },
    {
     "data": {
      "application/vnd.jupyter.widget-view+json": {
       "model_id": "94d867ea1f134eaebbeb825e0ea1b847",
       "version_major": 2,
       "version_minor": 0
      },
      "text/plain": [
       "Resolving data files:   0%|          | 0/52 [00:00<?, ?it/s]"
      ]
     },
     "metadata": {},
     "output_type": "display_data"
    },
    {
     "data": {
      "application/vnd.jupyter.widget-view+json": {
       "model_id": "02e9ca1b5c204781b48715c1c6740484",
       "version_major": 2,
       "version_minor": 0
      },
      "text/plain": [
       "Resolving data files:   0%|          | 0/52 [00:00<?, ?it/s]"
      ]
     },
     "metadata": {},
     "output_type": "display_data"
    },
    {
     "data": {
      "application/vnd.jupyter.widget-view+json": {
       "model_id": "89923ee463874506ad82f9031ea5976c",
       "version_major": 2,
       "version_minor": 0
      },
      "text/plain": [
       "Resolving data files:   0%|          | 0/52 [00:00<?, ?it/s]"
      ]
     },
     "metadata": {},
     "output_type": "display_data"
    }
   ],
   "source": [
    "trn = load_dataset(\"evanarlian/imagenet_1k_resized_256\", split = 'train')\n",
    "val = load_dataset(\"evanarlian/imagenet_1k_resized_256\", split = 'val')\n",
    "tst = load_dataset(\"evanarlian/imagenet_1k_resized_256\", split = 'test')"
   ]
  },
  {
   "cell_type": "code",
   "execution_count": 3,
   "metadata": {},
   "outputs": [],
   "source": [
    "import torch\n",
    "\n",
    "from PIL import Image\n",
    "from torchvision import transforms"
   ]
  },
  {
   "cell_type": "code",
   "execution_count": 4,
   "metadata": {},
   "outputs": [],
   "source": [
    "preprocess = transforms.Compose([\n",
    "    transforms.Resize(256),\n",
    "    transforms.CenterCrop(224),\n",
    "    transforms.ToTensor(),\n",
    "    transforms.Normalize(mean=[0.485, 0.456, 0.406], std=[0.229, 0.224, 0.225]),\n",
    "])\n",
    "\n",
    "def transform(examples):\n",
    "    examples['image'] = [preprocess(image.convert(\"RGB\")) for image in examples['image']]\n",
    "    return examples\n",
    "\n",
    "def collate_fn(examples):\n",
    "    images = []\n",
    "    labels = []\n",
    "    for example in examples:\n",
    "        images.append((example['image']))\n",
    "        labels.append(example['label'])\n",
    "\n",
    "    images = torch.stack(images)\n",
    "    labels = torch.tensor(labels)\n",
    "    return {'image': images, 'label': labels}"
   ]
  },
  {
   "cell_type": "code",
   "execution_count": 5,
   "metadata": {},
   "outputs": [
    {
     "data": {
      "text/plain": [
       "Dataset({\n",
       "    features: ['image', 'label'],\n",
       "    num_rows: 1281167\n",
       "})"
      ]
     },
     "execution_count": 5,
     "metadata": {},
     "output_type": "execute_result"
    }
   ],
   "source": [
    "trn"
   ]
  },
  {
   "cell_type": "code",
   "execution_count": 6,
   "metadata": {},
   "outputs": [],
   "source": [
    "trn = trn.with_transform(transform)\n",
    "trn_loader = torch.utils.data.DataLoader(trn, collate_fn = collate_fn, batch_size = 4)"
   ]
  },
  {
   "cell_type": "code",
   "execution_count": 7,
   "metadata": {},
   "outputs": [],
   "source": [
    "for i, sample in enumerate(trn_loader):\n",
    "    x = sample['image']\n",
    "    y = sample['label']\n",
    "    break"
   ]
  },
  {
   "cell_type": "code",
   "execution_count": 8,
   "metadata": {},
   "outputs": [
    {
     "data": {
      "text/plain": [
       "0"
      ]
     },
     "execution_count": 8,
     "metadata": {},
     "output_type": "execute_result"
    }
   ],
   "source": [
    "i"
   ]
  },
  {
   "cell_type": "code",
   "execution_count": 9,
   "metadata": {},
   "outputs": [
    {
     "data": {
      "text/plain": [
       "(tensor([[[[ 2.2489,  2.2489,  2.2489,  ...,  2.2489,  2.2489,  2.2489],\n",
       "           [ 2.2489,  2.2489,  2.2489,  ...,  2.2489,  2.2489,  2.2489],\n",
       "           [ 2.2489,  2.2489,  2.2489,  ...,  2.2489,  2.2489,  2.2489],\n",
       "           ...,\n",
       "           [ 2.1975,  2.2318,  2.2318,  ...,  2.2318,  2.2318,  2.1975],\n",
       "           [ 2.1975,  2.2318,  2.2318,  ...,  2.2318,  2.2318,  2.1975],\n",
       "           [ 2.1975,  2.2318,  2.2318,  ...,  2.2318,  2.2318,  2.1975]],\n",
       " \n",
       "          [[ 2.4286,  2.4286,  2.4286,  ...,  2.4111,  2.3936,  2.3936],\n",
       "           [ 2.4286,  2.4286,  2.4286,  ...,  2.4111,  2.3936,  2.3936],\n",
       "           [ 2.4286,  2.4286,  2.4286,  ...,  2.4286,  2.3936,  2.3936],\n",
       "           ...,\n",
       "           [ 2.4286,  2.4286,  2.4286,  ...,  2.4286,  2.4286,  2.4286],\n",
       "           [ 2.4286,  2.4286,  2.4286,  ...,  2.4286,  2.4286,  2.4286],\n",
       "           [ 2.4286,  2.4286,  2.4286,  ...,  2.4286,  2.4286,  2.4286]],\n",
       " \n",
       "          [[ 2.6400,  2.6400,  2.6400,  ...,  2.6051,  2.6400,  2.6400],\n",
       "           [ 2.6400,  2.6400,  2.6400,  ...,  2.6051,  2.6400,  2.6400],\n",
       "           [ 2.6400,  2.6400,  2.6400,  ...,  2.6051,  2.6400,  2.6400],\n",
       "           ...,\n",
       "           [ 2.6400,  2.6400,  2.6400,  ...,  2.6051,  2.6400,  2.6400],\n",
       "           [ 2.6400,  2.6400,  2.6400,  ...,  2.6051,  2.6400,  2.6400],\n",
       "           [ 2.6400,  2.6400,  2.6400,  ...,  2.6051,  2.6400,  2.6400]]],\n",
       " \n",
       " \n",
       "         [[[-0.8678, -1.0219, -1.0733,  ...,  2.2318,  2.2318,  2.2318],\n",
       "           [-1.3130, -1.1760, -0.8507,  ...,  2.2318,  2.2318,  2.2318],\n",
       "           [-1.2617, -0.9363, -0.6109,  ...,  2.2318,  2.2318,  2.2318],\n",
       "           ...,\n",
       "           [ 0.1254,  0.0056, -0.1657,  ...,  0.8104,  0.8447,  0.8104],\n",
       "           [ 0.1083,  0.0569, -0.1657,  ...,  0.7933,  0.8104,  0.7762],\n",
       "           [ 0.0569,  0.0398, -0.2342,  ...,  0.7933,  0.7762,  0.7419]],\n",
       " \n",
       "          [[-0.7752, -0.9153, -0.9503,  ...,  2.4111,  2.4111,  2.4111],\n",
       "           [-1.2304, -1.0728, -0.7227,  ...,  2.4111,  2.4111,  2.4111],\n",
       "           [-1.1779, -0.8277, -0.4951,  ...,  2.4111,  2.4111,  2.4111],\n",
       "           ...,\n",
       "           [-0.2675, -0.3200, -0.4076,  ...,  0.8004,  0.8354,  0.8004],\n",
       "           [-0.3025, -0.3025, -0.4601,  ...,  0.7829,  0.8004,  0.7654],\n",
       "           [-0.3725, -0.3200, -0.5301,  ...,  0.7829,  0.7654,  0.7304]],\n",
       " \n",
       "          [[-0.8981, -1.1421, -1.2641,  ...,  2.6226,  2.6226,  2.6226],\n",
       "           [-1.3513, -1.2641, -1.0376,  ...,  2.6226,  2.6226,  2.6226],\n",
       "           [-1.2990, -1.0201, -0.7587,  ...,  2.6226,  2.6226,  2.6226],\n",
       "           ...,\n",
       "           [-0.4624, -0.5321, -0.6541,  ...,  0.8622,  0.8971,  0.8622],\n",
       "           [-0.4450, -0.4624, -0.6541,  ...,  0.8448,  0.8622,  0.8274],\n",
       "           [-0.5147, -0.4798, -0.7238,  ...,  0.8448,  0.8274,  0.7925]]],\n",
       " \n",
       " \n",
       "         [[[-1.3130, -0.7822, -0.0801,  ..., -0.1657, -0.0458, -0.0972],\n",
       "           [-0.4739, -0.0116,  0.1426,  ..., -0.2342, -0.2513, -0.2684],\n",
       "           [ 0.0227,  0.1597, -0.0629,  ..., -0.2171, -0.1828, -0.1999],\n",
       "           ...,\n",
       "           [ 0.0227,  0.0227, -0.0458,  ..., -1.1247, -0.9363, -0.8164],\n",
       "           [-0.0629,  0.0227,  0.0398,  ..., -1.1760, -1.0390, -0.7650],\n",
       "           [-0.2171, -0.0458,  0.0741,  ..., -1.1589, -1.1075, -0.7308]],\n",
       " \n",
       "          [[-1.0728, -0.5301,  0.1877,  ...,  0.0651,  0.1702,  0.1176],\n",
       "           [-0.2150,  0.2577,  0.4153,  ...,  0.0301, -0.0049, -0.0399],\n",
       "           [ 0.2927,  0.4328,  0.2052,  ...,  0.0476,  0.0651,  0.0301],\n",
       "           ...,\n",
       "           [ 0.3803,  0.3803,  0.3102,  ..., -0.6877, -0.4951, -0.3725],\n",
       "           [ 0.2927,  0.3803,  0.3978,  ..., -0.7402, -0.6001, -0.3200],\n",
       "           [ 0.1352,  0.3102,  0.4328,  ..., -0.7402, -0.6702, -0.2850]],\n",
       " \n",
       "          [[-1.0376, -0.4973,  0.1476,  ...,  0.1128,  0.2871,  0.2696],\n",
       "           [-0.1835,  0.2522,  0.3742,  ...,  0.0605,  0.0953,  0.1128],\n",
       "           [ 0.3219,  0.4265,  0.1651,  ...,  0.0779,  0.1476,  0.1825],\n",
       "           ...,\n",
       "           [ 0.2871,  0.2871,  0.2173,  ..., -0.9504, -0.7587, -0.6367],\n",
       "           [ 0.1999,  0.2871,  0.3045,  ..., -1.0027, -0.8633, -0.5844],\n",
       "           [ 0.0431,  0.2173,  0.3393,  ..., -0.9678, -0.9330, -0.5495]]],\n",
       " \n",
       " \n",
       "         [[[ 1.3584,  1.1872,  1.3584,  ...,  1.9920,  2.0092,  2.0092],\n",
       "           [ 1.2728,  1.0673,  1.3584,  ...,  1.9920,  2.0092,  2.0092],\n",
       "           [ 1.2557,  0.9988,  1.2214,  ...,  1.9920,  2.0092,  2.0092],\n",
       "           ...,\n",
       "           [-1.9980, -1.9980, -1.9980,  ..., -0.9020, -0.9192, -0.9363],\n",
       "           [-2.0152, -1.9809, -1.9809,  ..., -0.9363, -0.9020, -0.9192],\n",
       "           [-2.0152, -1.9809, -1.9638,  ..., -0.9705, -0.8849, -0.9020]],\n",
       " \n",
       "          [[ 1.6408,  1.4657,  1.6408,  ...,  2.2885,  2.3060,  2.3060],\n",
       "           [ 1.5707,  1.3431,  1.6583,  ...,  2.2885,  2.3060,  2.3060],\n",
       "           [ 1.5707,  1.2906,  1.5357,  ...,  2.2885,  2.3060,  2.3060],\n",
       "           ...,\n",
       "           [-1.8782, -1.8782, -1.8782,  ..., -0.6527, -0.6702, -0.6877],\n",
       "           [-1.8957, -1.8606, -1.8606,  ..., -0.6877, -0.6527, -0.6702],\n",
       "           [-1.8957, -1.8606, -1.8431,  ..., -0.7227, -0.6352, -0.6527]],\n",
       " \n",
       "          [[ 2.3437,  2.1868,  2.3088,  ...,  2.6400,  2.6400,  2.6400],\n",
       "           [ 2.1868,  2.0125,  2.2740,  ...,  2.6400,  2.6400,  2.6400],\n",
       "           [ 2.0823,  1.8383,  2.0474,  ...,  2.6400,  2.6400,  2.6400],\n",
       "           ...,\n",
       "           [-1.6650, -1.6650, -1.6650,  ..., -1.2816, -1.2641, -1.2816],\n",
       "           [-1.6824, -1.6476, -1.6476,  ..., -1.3164, -1.2467, -1.2641],\n",
       "           [-1.6824, -1.6476, -1.6302,  ..., -1.3513, -1.2293, -1.2467]]]]),\n",
       " torch.Size([4, 3, 224, 224]))"
      ]
     },
     "execution_count": 9,
     "metadata": {},
     "output_type": "execute_result"
    }
   ],
   "source": [
    "x, x.shape"
   ]
  },
  {
   "cell_type": "code",
   "execution_count": 10,
   "metadata": {},
   "outputs": [
    {
     "data": {
      "text/plain": [
       "(tensor([0, 0, 0, 0]), torch.Size([4]))"
      ]
     },
     "execution_count": 10,
     "metadata": {},
     "output_type": "execute_result"
    }
   ],
   "source": [
    "y, y.shape"
   ]
  },
  {
   "cell_type": "code",
   "execution_count": null,
   "metadata": {},
   "outputs": [],
   "source": []
  }
 ],
 "metadata": {
  "kernelspec": {
   "display_name": "mirror",
   "language": "python",
   "name": "python3"
  },
  "language_info": {
   "codemirror_mode": {
    "name": "ipython",
    "version": 3
   },
   "file_extension": ".py",
   "mimetype": "text/x-python",
   "name": "python",
   "nbconvert_exporter": "python",
   "pygments_lexer": "ipython3",
   "version": "3.8.8"
  }
 },
 "nbformat": 4,
 "nbformat_minor": 2
}
